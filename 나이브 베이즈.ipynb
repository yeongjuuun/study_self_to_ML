{
 "cells": [
  {
   "cell_type": "code",
   "execution_count": 3,
   "id": "c8e29a28",
   "metadata": {},
   "outputs": [
    {
     "data": {
      "text/html": [
       "<div>\n",
       "<style scoped>\n",
       "    .dataframe tbody tr th:only-of-type {\n",
       "        vertical-align: middle;\n",
       "    }\n",
       "\n",
       "    .dataframe tbody tr th {\n",
       "        vertical-align: top;\n",
       "    }\n",
       "\n",
       "    .dataframe thead th {\n",
       "        text-align: right;\n",
       "    }\n",
       "</style>\n",
       "<table border=\"1\" class=\"dataframe\">\n",
       "  <thead>\n",
       "    <tr style=\"text-align: right;\">\n",
       "      <th></th>\n",
       "      <th>target</th>\n",
       "      <th>text</th>\n",
       "    </tr>\n",
       "  </thead>\n",
       "  <tbody>\n",
       "    <tr>\n",
       "      <th>0</th>\n",
       "      <td>ham</td>\n",
       "      <td>Go until jurong point, crazy.. Available only ...</td>\n",
       "    </tr>\n",
       "    <tr>\n",
       "      <th>1</th>\n",
       "      <td>ham</td>\n",
       "      <td>Ok lar... Joking wif u oni...</td>\n",
       "    </tr>\n",
       "    <tr>\n",
       "      <th>2</th>\n",
       "      <td>spam</td>\n",
       "      <td>Free entry in 2 a wkly comp to win FA Cup fina...</td>\n",
       "    </tr>\n",
       "    <tr>\n",
       "      <th>3</th>\n",
       "      <td>ham</td>\n",
       "      <td>U dun say so early hor... U c already then say...</td>\n",
       "    </tr>\n",
       "    <tr>\n",
       "      <th>4</th>\n",
       "      <td>ham</td>\n",
       "      <td>Nah I don't think he goes to usf, he lives aro...</td>\n",
       "    </tr>\n",
       "  </tbody>\n",
       "</table>\n",
       "</div>"
      ],
      "text/plain": [
       "  target                                               text\n",
       "0    ham  Go until jurong point, crazy.. Available only ...\n",
       "1    ham                      Ok lar... Joking wif u oni...\n",
       "2   spam  Free entry in 2 a wkly comp to win FA Cup fina...\n",
       "3    ham  U dun say so early hor... U c already then say...\n",
       "4    ham  Nah I don't think he goes to usf, he lives aro..."
      ]
     },
     "execution_count": 3,
     "metadata": {},
     "output_type": "execute_result"
    }
   ],
   "source": [
    "import numpy as np\n",
    "import pandas as pd\n",
    "import seaborn as sns\n",
    "import matplotlib.pyplot as plt\n",
    "\n",
    "file_url = 'https://media.githubusercontent.com/media/musthave-ML10/data_source/main/spam.csv'\n",
    "data = pd.read_csv(file_url) # 데이터셋 읽기\n",
    "data.head()"
   ]
  },
  {
   "cell_type": "code",
   "execution_count": 4,
   "id": "9fabde6f",
   "metadata": {},
   "outputs": [
    {
     "data": {
      "text/plain": [
       "array(['ham', 'spam'], dtype=object)"
      ]
     },
     "execution_count": 4,
     "metadata": {},
     "output_type": "execute_result"
    }
   ],
   "source": [
    "data['target'].unique() # 목표 변수의 고윳값 확인"
   ]
  },
  {
   "cell_type": "markdown",
   "id": "06e18140",
   "metadata": {},
   "source": [
    "## 전처리: 특수 기호 제거하기"
   ]
  },
  {
   "cell_type": "code",
   "execution_count": 7,
   "id": "1256f1e7",
   "metadata": {},
   "outputs": [
    {
     "data": {
      "text/plain": [
       "'!\"#$%&\\'()*+,-./:;<=>?@[\\\\]^_`{|}~'"
      ]
     },
     "execution_count": 7,
     "metadata": {},
     "output_type": "execute_result"
    }
   ],
   "source": [
    "import string\n",
    "string.punctuation # 특수 기호 목록 출력"
   ]
  },
  {
   "cell_type": "markdown",
   "id": "aefe0cbe",
   "metadata": {},
   "source": [
    "- 문자열에서 문자를 하나씩 거내 특수 기호인지 판단한 뒤, 특수 기호가 아닌 문자들만 리스트에 저장\n",
    "- 각 문자를 문장으로 합치고 나서\n",
    "- 이 문자열이 문장별로 행에 저장되게 변환"
   ]
  },
  {
   "cell_type": "code",
   "execution_count": 11,
   "id": "083df791",
   "metadata": {},
   "outputs": [],
   "source": [
    "sample_string = data['text'].loc[0]\n",
    "\n",
    "new_string = [] # 빈 리스트 생성\n",
    "for i in sample_string: # 문자열 순회\n",
    "    if i not in string.punctuation: # 특수 기호가 아니면\n",
    "        new_string.append(i)         # 리스트에 문자추가\n",
    "new_string = ''.join(new_string)     # 리스트를 문자열 형태로 변환"
   ]
  },
  {
   "cell_type": "code",
   "execution_count": 16,
   "id": "1e7790f7",
   "metadata": {},
   "outputs": [],
   "source": [
    "def remove_punc(x): # 함수 정의\n",
    "    new_string = [] # 빈 리스트\n",
    "    for i in x: # 문자열 순회\n",
    "        if i not in string.punctuation: # 특수 기호가 아니면\n",
    "            new_string.append(i)         # 리스트에 문자추가\n",
    "    new_string = ''.join(new_string)     # 리스트를 문자열 형태로 변환\n",
    "    return new_string"
   ]
  },
  {
   "cell_type": "code",
   "execution_count": 17,
   "id": "3a76b08e",
   "metadata": {},
   "outputs": [
    {
     "data": {
      "text/plain": [
       "'Go until jurong point crazy Available only in bugis n great world la e buffet Cine there got amore wat'"
      ]
     },
     "execution_count": 17,
     "metadata": {},
     "output_type": "execute_result"
    }
   ],
   "source": [
    "# 작동 확인\n",
    "remove_punc(sample_string) # 특수 기호 삭제 함수 호출"
   ]
  },
  {
   "cell_type": "code",
   "execution_count": 18,
   "id": "c261cca1",
   "metadata": {},
   "outputs": [
    {
     "data": {
      "text/plain": [
       "0       Go until jurong point crazy Available only in ...\n",
       "1                                 Ok lar Joking wif u oni\n",
       "2       Free entry in 2 a wkly comp to win FA Cup fina...\n",
       "3             U dun say so early hor U c already then say\n",
       "4       Nah I dont think he goes to usf he lives aroun...\n",
       "                              ...                        \n",
       "5569    This is the 2nd time we have tried 2 contact u...\n",
       "5570                  Will ü b going to esplanade fr home\n",
       "5571    Pity  was in mood for that Soany other suggest...\n",
       "5572    The guy did some bitching but I acted like id ...\n",
       "5573                            Rofl Its true to its name\n",
       "Name: text, Length: 5574, dtype: object"
      ]
     },
     "execution_count": 18,
     "metadata": {},
     "output_type": "execute_result"
    }
   ],
   "source": [
    "data['text'].apply(remove_punc) # 함수에 한 행씩 적용되도록 실행"
   ]
  },
  {
   "cell_type": "code",
   "execution_count": 19,
   "id": "6bd27a5e",
   "metadata": {},
   "outputs": [],
   "source": [
    "data['text'] = data['text'].apply(remove_punc) # 데이터셋 업데이트"
   ]
  },
  {
   "cell_type": "markdown",
   "id": "71dd1bbf",
   "metadata": {},
   "source": [
    "## 전처리: 불용어 제거하기"
   ]
  },
  {
   "cell_type": "markdown",
   "id": "01ee57b9",
   "metadata": {},
   "source": [
    "- 불용어는 자연어 분석에 큰 도움이 안 되는 단어를 의미\n",
    "- 이러한 단어를 제거해주면 데이터를 조금이나마 더 가볍게 만들 수 있음\n",
    "---\n",
    "- 판다스 시리즈에 저장된 문자열 하나를 단어 단위로 리스트로 변환\n",
    "- 불용어가 아니면 소문자로 저장한 뒤\n",
    "- 문자를 문자열로 합침\n",
    "- 이 과정을 반복하여 모든 문자열에 적용"
   ]
  },
  {
   "cell_type": "code",
   "execution_count": 20,
   "id": "d6c4e761",
   "metadata": {},
   "outputs": [
    {
     "name": "stderr",
     "output_type": "stream",
     "text": [
      "[nltk_data] Downloading package stopwords to\n",
      "[nltk_data]     C:\\Users\\KOREAIT\\AppData\\Roaming\\nltk_data...\n",
      "[nltk_data]   Package stopwords is already up-to-date!\n"
     ]
    },
    {
     "data": {
      "text/plain": [
       "True"
      ]
     },
     "execution_count": 20,
     "metadata": {},
     "output_type": "execute_result"
    }
   ],
   "source": [
    "import nltk\n",
    "nltk.download('stopwords') # 불용어 목록 가져오기"
   ]
  },
  {
   "cell_type": "code",
   "execution_count": 21,
   "id": "6534e319",
   "metadata": {},
   "outputs": [
    {
     "data": {
      "text/plain": [
       "['i',\n",
       " 'me',\n",
       " 'my',\n",
       " 'myself',\n",
       " 'we',\n",
       " 'our',\n",
       " 'ours',\n",
       " 'ourselves',\n",
       " 'you',\n",
       " \"you're\",\n",
       " \"you've\",\n",
       " \"you'll\",\n",
       " \"you'd\",\n",
       " 'your',\n",
       " 'yours',\n",
       " 'yourself',\n",
       " 'yourselves',\n",
       " 'he',\n",
       " 'him',\n",
       " 'his',\n",
       " 'himself',\n",
       " 'she',\n",
       " \"she's\",\n",
       " 'her',\n",
       " 'hers',\n",
       " 'herself',\n",
       " 'it',\n",
       " \"it's\",\n",
       " 'its',\n",
       " 'itself',\n",
       " 'they',\n",
       " 'them',\n",
       " 'their',\n",
       " 'theirs',\n",
       " 'themselves',\n",
       " 'what',\n",
       " 'which',\n",
       " 'who',\n",
       " 'whom',\n",
       " 'this',\n",
       " 'that',\n",
       " \"that'll\",\n",
       " 'these',\n",
       " 'those',\n",
       " 'am',\n",
       " 'is',\n",
       " 'are',\n",
       " 'was',\n",
       " 'were',\n",
       " 'be',\n",
       " 'been',\n",
       " 'being',\n",
       " 'have',\n",
       " 'has',\n",
       " 'had',\n",
       " 'having',\n",
       " 'do',\n",
       " 'does',\n",
       " 'did',\n",
       " 'doing',\n",
       " 'a',\n",
       " 'an',\n",
       " 'the',\n",
       " 'and',\n",
       " 'but',\n",
       " 'if',\n",
       " 'or',\n",
       " 'because',\n",
       " 'as',\n",
       " 'until',\n",
       " 'while',\n",
       " 'of',\n",
       " 'at',\n",
       " 'by',\n",
       " 'for',\n",
       " 'with',\n",
       " 'about',\n",
       " 'against',\n",
       " 'between',\n",
       " 'into',\n",
       " 'through',\n",
       " 'during',\n",
       " 'before',\n",
       " 'after',\n",
       " 'above',\n",
       " 'below',\n",
       " 'to',\n",
       " 'from',\n",
       " 'up',\n",
       " 'down',\n",
       " 'in',\n",
       " 'out',\n",
       " 'on',\n",
       " 'off',\n",
       " 'over',\n",
       " 'under',\n",
       " 'again',\n",
       " 'further',\n",
       " 'then',\n",
       " 'once',\n",
       " 'here',\n",
       " 'there',\n",
       " 'when',\n",
       " 'where',\n",
       " 'why',\n",
       " 'how',\n",
       " 'all',\n",
       " 'any',\n",
       " 'both',\n",
       " 'each',\n",
       " 'few',\n",
       " 'more',\n",
       " 'most',\n",
       " 'other',\n",
       " 'some',\n",
       " 'such',\n",
       " 'no',\n",
       " 'nor',\n",
       " 'not',\n",
       " 'only',\n",
       " 'own',\n",
       " 'same',\n",
       " 'so',\n",
       " 'than',\n",
       " 'too',\n",
       " 'very',\n",
       " 's',\n",
       " 't',\n",
       " 'can',\n",
       " 'will',\n",
       " 'just',\n",
       " 'don',\n",
       " \"don't\",\n",
       " 'should',\n",
       " \"should've\",\n",
       " 'now',\n",
       " 'd',\n",
       " 'll',\n",
       " 'm',\n",
       " 'o',\n",
       " 're',\n",
       " 've',\n",
       " 'y',\n",
       " 'ain',\n",
       " 'aren',\n",
       " \"aren't\",\n",
       " 'couldn',\n",
       " \"couldn't\",\n",
       " 'didn',\n",
       " \"didn't\",\n",
       " 'doesn',\n",
       " \"doesn't\",\n",
       " 'hadn',\n",
       " \"hadn't\",\n",
       " 'hasn',\n",
       " \"hasn't\",\n",
       " 'haven',\n",
       " \"haven't\",\n",
       " 'isn',\n",
       " \"isn't\",\n",
       " 'ma',\n",
       " 'mightn',\n",
       " \"mightn't\",\n",
       " 'mustn',\n",
       " \"mustn't\",\n",
       " 'needn',\n",
       " \"needn't\",\n",
       " 'shan',\n",
       " \"shan't\",\n",
       " 'shouldn',\n",
       " \"shouldn't\",\n",
       " 'wasn',\n",
       " \"wasn't\",\n",
       " 'weren',\n",
       " \"weren't\",\n",
       " 'won',\n",
       " \"won't\",\n",
       " 'wouldn',\n",
       " \"wouldn't\"]"
      ]
     },
     "execution_count": 21,
     "metadata": {},
     "output_type": "execute_result"
    }
   ],
   "source": [
    "from nltk.corpus import stopwords # 불용어 목록 임포트\n",
    "stopwords.words('english') # 영어 불용어 선택"
   ]
  },
  {
   "cell_type": "code",
   "execution_count": 22,
   "id": "7e37a70c",
   "metadata": {},
   "outputs": [
    {
     "data": {
      "text/plain": [
       "['Go',\n",
       " 'until',\n",
       " 'jurong',\n",
       " 'point',\n",
       " 'crazy',\n",
       " 'Available',\n",
       " 'only',\n",
       " 'in',\n",
       " 'bugis',\n",
       " 'n',\n",
       " 'great',\n",
       " 'world',\n",
       " 'la',\n",
       " 'e',\n",
       " 'buffet',\n",
       " 'Cine',\n",
       " 'there',\n",
       " 'got',\n",
       " 'amore',\n",
       " 'wat']"
      ]
     },
     "execution_count": 22,
     "metadata": {},
     "output_type": "execute_result"
    }
   ],
   "source": [
    "sample_string = data['text'].loc[0]\n",
    "sample_string.split() #  단어 단위로 문장 분할"
   ]
  },
  {
   "cell_type": "code",
   "execution_count": 24,
   "id": "5bea423a",
   "metadata": {},
   "outputs": [
    {
     "name": "stdout",
     "output_type": "stream",
     "text": [
      "go\n",
      "jurong\n",
      "point\n",
      "crazy\n",
      "available\n",
      "bugis\n",
      "n\n",
      "great\n",
      "world\n",
      "la\n",
      "e\n",
      "buffet\n",
      "cine\n",
      "got\n",
      "amore\n",
      "wat\n"
     ]
    }
   ],
   "source": [
    "# 각 단어가 불용어에 속하는지 아닌지 판독하는 코드를 구현\n",
    "for i in sample_string.split(): # 순화\n",
    "    if i not in stopwords.words('english'): # 불용어가 아니면\n",
    "        print(i.lower())"
   ]
  },
  {
   "cell_type": "code",
   "execution_count": 25,
   "id": "e740ad47",
   "metadata": {},
   "outputs": [
    {
     "data": {
      "text/plain": [
       "'go jurong point crazy available bugis n great world la e buffet cine got amore wat'"
      ]
     },
     "execution_count": 25,
     "metadata": {},
     "output_type": "execute_result"
    }
   ],
   "source": [
    "new_string=[] # 빈 리스트 생성\n",
    "for i in sample_string.split(): # 순회\n",
    "    if i.lower() not in stopwords.words('english'):\n",
    "        # 소문자로 변환한 단어가 불용어가 아니면\n",
    "        new_string.append(i.lower()) # 문자 단위로 추가\n",
    "        \n",
    "new_string = ' '.join(new_string)   # 공백 단위로 묶기\n",
    "\n",
    "new_string"
   ]
  },
  {
   "cell_type": "code",
   "execution_count": 27,
   "id": "7f4a2864",
   "metadata": {},
   "outputs": [
    {
     "data": {
      "text/plain": [
       "0       go jurong point crazy available bugis n great ...\n",
       "1                                 ok lar joking wif u oni\n",
       "2       free entry 2 wkly comp win fa cup final tkts 2...\n",
       "3                     u dun say early hor u c already say\n",
       "4             nah dont think goes usf lives around though\n",
       "                              ...                        \n",
       "5569    2nd time tried 2 contact u u £750 pound prize ...\n",
       "5570                          ü b going esplanade fr home\n",
       "5571                          pity mood soany suggestions\n",
       "5572    guy bitching acted like id interested buying s...\n",
       "5573                                       rofl true name\n",
       "Name: text, Length: 5574, dtype: object"
      ]
     },
     "execution_count": 27,
     "metadata": {},
     "output_type": "execute_result"
    }
   ],
   "source": [
    "def stop_words(x):\n",
    "    new_string=[]\n",
    "    for i in x.split():\n",
    "        if i.lower() not in stopwords.words('english'):\n",
    "        # 소문자로 변환한 단어가 불용어가 아니면\n",
    "            new_string.append(i.lower()) # 문자 단위로 추가\n",
    "    new_string = ' '.join(new_string) # 공백 단위로 묶기\n",
    "    return new_string \n",
    "\n",
    "data['text'] = data['text'].apply(stop_words)\n",
    "data['text']"
   ]
  },
  {
   "cell_type": "markdown",
   "id": "2c1a00dc",
   "metadata": {},
   "source": [
    "## 전처리 : 목표 컬럼 형태 변경하기"
   ]
  },
  {
   "cell_type": "markdown",
   "id": "b2ff7839",
   "metadata": {},
   "source": [
    "- 범주형 목표값인 'ham', 'spam' 은 원핫인코딩으로 전처리"
   ]
  },
  {
   "cell_type": "code",
   "execution_count": 30,
   "id": "46729340",
   "metadata": {},
   "outputs": [
    {
     "data": {
      "text/plain": [
       "0       0\n",
       "1       0\n",
       "2       1\n",
       "3       0\n",
       "4       0\n",
       "       ..\n",
       "5569    1\n",
       "5570    0\n",
       "5571    0\n",
       "5572    0\n",
       "5573    0\n",
       "Name: target, Length: 5574, dtype: int64"
      ]
     },
     "execution_count": 30,
     "metadata": {},
     "output_type": "execute_result"
    }
   ],
   "source": [
    "data['target'] = data['target'].map({'spam':1, 'ham':0}) # 텍스트를 숫자로 변환\n",
    "data['target'] # 출력"
   ]
  },
  {
   "cell_type": "markdown",
   "id": "ef30f9e8",
   "metadata": {},
   "source": [
    "## 전처리 : 카운트 기반으로 벡터화하기"
   ]
  },
  {
   "cell_type": "code",
   "execution_count": 33,
   "id": "0635124b",
   "metadata": {},
   "outputs": [],
   "source": [
    "x = data['text'] # 독립변수\n",
    "y = data['target'] # 종속변수\n",
    "from sklearn.feature_extraction.text import CountVectorizer"
   ]
  },
  {
   "cell_type": "code",
   "execution_count": 41,
   "id": "959e667f",
   "metadata": {},
   "outputs": [
    {
     "ename": "AttributeError",
     "evalue": "lower not found",
     "output_type": "error",
     "traceback": [
      "\u001b[1;31m---------------------------------------------------------------------------\u001b[0m",
      "\u001b[1;31mAttributeError\u001b[0m                            Traceback (most recent call last)",
      "Input \u001b[1;32mIn [41]\u001b[0m, in \u001b[0;36m<cell line: 2>\u001b[1;34m()\u001b[0m\n\u001b[0;32m      1\u001b[0m cv \u001b[38;5;241m=\u001b[39m CountVectorizer() \u001b[38;5;66;03m# 객체 생성\u001b[39;00m\n\u001b[1;32m----> 2\u001b[0m \u001b[43mcv\u001b[49m\u001b[38;5;241;43m.\u001b[39;49m\u001b[43mfit\u001b[49m\u001b[43m(\u001b[49m\u001b[43mx\u001b[49m\u001b[43m)\u001b[49m\n\u001b[0;32m      3\u001b[0m cv\u001b[38;5;241m.\u001b[39mvocabulary_\n",
      "File \u001b[1;32m~\\anaconda3\\envs\\py39tf2\\lib\\site-packages\\sklearn\\feature_extraction\\text.py:1291\u001b[0m, in \u001b[0;36mCountVectorizer.fit\u001b[1;34m(self, raw_documents, y)\u001b[0m\n\u001b[0;32m   1275\u001b[0m \u001b[38;5;124;03m\"\"\"Learn a vocabulary dictionary of all tokens in the raw documents.\u001b[39;00m\n\u001b[0;32m   1276\u001b[0m \n\u001b[0;32m   1277\u001b[0m \u001b[38;5;124;03mParameters\u001b[39;00m\n\u001b[1;32m   (...)\u001b[0m\n\u001b[0;32m   1288\u001b[0m \u001b[38;5;124;03m    Fitted vectorizer.\u001b[39;00m\n\u001b[0;32m   1289\u001b[0m \u001b[38;5;124;03m\"\"\"\u001b[39;00m\n\u001b[0;32m   1290\u001b[0m \u001b[38;5;28mself\u001b[39m\u001b[38;5;241m.\u001b[39m_warn_for_unused_params()\n\u001b[1;32m-> 1291\u001b[0m \u001b[38;5;28;43mself\u001b[39;49m\u001b[38;5;241;43m.\u001b[39;49m\u001b[43mfit_transform\u001b[49m\u001b[43m(\u001b[49m\u001b[43mraw_documents\u001b[49m\u001b[43m)\u001b[49m\n\u001b[0;32m   1292\u001b[0m \u001b[38;5;28;01mreturn\u001b[39;00m \u001b[38;5;28mself\u001b[39m\n",
      "File \u001b[1;32m~\\anaconda3\\envs\\py39tf2\\lib\\site-packages\\sklearn\\feature_extraction\\text.py:1338\u001b[0m, in \u001b[0;36mCountVectorizer.fit_transform\u001b[1;34m(self, raw_documents, y)\u001b[0m\n\u001b[0;32m   1330\u001b[0m             warnings\u001b[38;5;241m.\u001b[39mwarn(\n\u001b[0;32m   1331\u001b[0m                 \u001b[38;5;124m\"\u001b[39m\u001b[38;5;124mUpper case characters found in\u001b[39m\u001b[38;5;124m\"\u001b[39m\n\u001b[0;32m   1332\u001b[0m                 \u001b[38;5;124m\"\u001b[39m\u001b[38;5;124m vocabulary while \u001b[39m\u001b[38;5;124m'\u001b[39m\u001b[38;5;124mlowercase\u001b[39m\u001b[38;5;124m'\u001b[39m\u001b[38;5;124m\"\u001b[39m\n\u001b[0;32m   1333\u001b[0m                 \u001b[38;5;124m\"\u001b[39m\u001b[38;5;124m is True. These entries will not\u001b[39m\u001b[38;5;124m\"\u001b[39m\n\u001b[0;32m   1334\u001b[0m                 \u001b[38;5;124m\"\u001b[39m\u001b[38;5;124m be matched with any documents\u001b[39m\u001b[38;5;124m\"\u001b[39m\n\u001b[0;32m   1335\u001b[0m             )\n\u001b[0;32m   1336\u001b[0m             \u001b[38;5;28;01mbreak\u001b[39;00m\n\u001b[1;32m-> 1338\u001b[0m vocabulary, X \u001b[38;5;241m=\u001b[39m \u001b[38;5;28;43mself\u001b[39;49m\u001b[38;5;241;43m.\u001b[39;49m\u001b[43m_count_vocab\u001b[49m\u001b[43m(\u001b[49m\u001b[43mraw_documents\u001b[49m\u001b[43m,\u001b[49m\u001b[43m \u001b[49m\u001b[38;5;28;43mself\u001b[39;49m\u001b[38;5;241;43m.\u001b[39;49m\u001b[43mfixed_vocabulary_\u001b[49m\u001b[43m)\u001b[49m\n\u001b[0;32m   1340\u001b[0m \u001b[38;5;28;01mif\u001b[39;00m \u001b[38;5;28mself\u001b[39m\u001b[38;5;241m.\u001b[39mbinary:\n\u001b[0;32m   1341\u001b[0m     X\u001b[38;5;241m.\u001b[39mdata\u001b[38;5;241m.\u001b[39mfill(\u001b[38;5;241m1\u001b[39m)\n",
      "File \u001b[1;32m~\\anaconda3\\envs\\py39tf2\\lib\\site-packages\\sklearn\\feature_extraction\\text.py:1209\u001b[0m, in \u001b[0;36mCountVectorizer._count_vocab\u001b[1;34m(self, raw_documents, fixed_vocab)\u001b[0m\n\u001b[0;32m   1207\u001b[0m \u001b[38;5;28;01mfor\u001b[39;00m doc \u001b[38;5;129;01min\u001b[39;00m raw_documents:\n\u001b[0;32m   1208\u001b[0m     feature_counter \u001b[38;5;241m=\u001b[39m {}\n\u001b[1;32m-> 1209\u001b[0m     \u001b[38;5;28;01mfor\u001b[39;00m feature \u001b[38;5;129;01min\u001b[39;00m \u001b[43manalyze\u001b[49m\u001b[43m(\u001b[49m\u001b[43mdoc\u001b[49m\u001b[43m)\u001b[49m:\n\u001b[0;32m   1210\u001b[0m         \u001b[38;5;28;01mtry\u001b[39;00m:\n\u001b[0;32m   1211\u001b[0m             feature_idx \u001b[38;5;241m=\u001b[39m vocabulary[feature]\n",
      "File \u001b[1;32m~\\anaconda3\\envs\\py39tf2\\lib\\site-packages\\sklearn\\feature_extraction\\text.py:111\u001b[0m, in \u001b[0;36m_analyze\u001b[1;34m(doc, analyzer, tokenizer, ngrams, preprocessor, decoder, stop_words)\u001b[0m\n\u001b[0;32m    109\u001b[0m \u001b[38;5;28;01melse\u001b[39;00m:\n\u001b[0;32m    110\u001b[0m     \u001b[38;5;28;01mif\u001b[39;00m preprocessor \u001b[38;5;129;01mis\u001b[39;00m \u001b[38;5;129;01mnot\u001b[39;00m \u001b[38;5;28;01mNone\u001b[39;00m:\n\u001b[1;32m--> 111\u001b[0m         doc \u001b[38;5;241m=\u001b[39m \u001b[43mpreprocessor\u001b[49m\u001b[43m(\u001b[49m\u001b[43mdoc\u001b[49m\u001b[43m)\u001b[49m\n\u001b[0;32m    112\u001b[0m     \u001b[38;5;28;01mif\u001b[39;00m tokenizer \u001b[38;5;129;01mis\u001b[39;00m \u001b[38;5;129;01mnot\u001b[39;00m \u001b[38;5;28;01mNone\u001b[39;00m:\n\u001b[0;32m    113\u001b[0m         doc \u001b[38;5;241m=\u001b[39m tokenizer(doc)\n",
      "File \u001b[1;32m~\\anaconda3\\envs\\py39tf2\\lib\\site-packages\\sklearn\\feature_extraction\\text.py:69\u001b[0m, in \u001b[0;36m_preprocess\u001b[1;34m(doc, accent_function, lower)\u001b[0m\n\u001b[0;32m     50\u001b[0m \u001b[38;5;124;03m\"\"\"Chain together an optional series of text preprocessing steps to\u001b[39;00m\n\u001b[0;32m     51\u001b[0m \u001b[38;5;124;03mapply to a document.\u001b[39;00m\n\u001b[0;32m     52\u001b[0m \n\u001b[1;32m   (...)\u001b[0m\n\u001b[0;32m     66\u001b[0m \u001b[38;5;124;03m    preprocessed string\u001b[39;00m\n\u001b[0;32m     67\u001b[0m \u001b[38;5;124;03m\"\"\"\u001b[39;00m\n\u001b[0;32m     68\u001b[0m \u001b[38;5;28;01mif\u001b[39;00m lower:\n\u001b[1;32m---> 69\u001b[0m     doc \u001b[38;5;241m=\u001b[39m \u001b[43mdoc\u001b[49m\u001b[38;5;241;43m.\u001b[39;49m\u001b[43mlower\u001b[49m()\n\u001b[0;32m     70\u001b[0m \u001b[38;5;28;01mif\u001b[39;00m accent_function \u001b[38;5;129;01mis\u001b[39;00m \u001b[38;5;129;01mnot\u001b[39;00m \u001b[38;5;28;01mNone\u001b[39;00m:\n\u001b[0;32m     71\u001b[0m     doc \u001b[38;5;241m=\u001b[39m accent_function(doc)\n",
      "File \u001b[1;32m~\\anaconda3\\envs\\py39tf2\\lib\\site-packages\\scipy\\sparse\\_base.py:771\u001b[0m, in \u001b[0;36mspmatrix.__getattr__\u001b[1;34m(self, attr)\u001b[0m\n\u001b[0;32m    769\u001b[0m     \u001b[38;5;28;01mreturn\u001b[39;00m \u001b[38;5;28mself\u001b[39m\u001b[38;5;241m.\u001b[39mgetnnz()\n\u001b[0;32m    770\u001b[0m \u001b[38;5;28;01melse\u001b[39;00m:\n\u001b[1;32m--> 771\u001b[0m     \u001b[38;5;28;01mraise\u001b[39;00m \u001b[38;5;167;01mAttributeError\u001b[39;00m(attr \u001b[38;5;241m+\u001b[39m \u001b[38;5;124m\"\u001b[39m\u001b[38;5;124m not found\u001b[39m\u001b[38;5;124m\"\u001b[39m)\n",
      "\u001b[1;31mAttributeError\u001b[0m: lower not found"
     ]
    }
   ],
   "source": [
    "cv = CountVectorizer() # 객체 생성\n",
    "cv.fit(x)\n",
    "cv.vocabulary_"
   ]
  },
  {
   "cell_type": "code",
   "execution_count": 40,
   "id": "bb74691e",
   "metadata": {},
   "outputs": [
    {
     "name": "stdout",
     "output_type": "stream",
     "text": [
      "  (0, 1181)\t1\n",
      "  (0, 1414)\t1\n",
      "  (0, 1879)\t1\n",
      "  (0, 1881)\t1\n",
      "  (0, 2214)\t1\n",
      "  (0, 2497)\t1\n",
      "  (0, 3791)\t1\n",
      "  (0, 3848)\t1\n",
      "  (0, 3888)\t1\n",
      "  (0, 4687)\t1\n",
      "  (0, 4847)\t1\n",
      "  (0, 6433)\t1\n",
      "  (0, 8947)\t1\n",
      "  (0, 9184)\t1\n",
      "  (1, 4655)\t1\n",
      "  (1, 4886)\t1\n",
      "  (1, 5995)\t1\n",
      "  (1, 6027)\t1\n",
      "  (1, 9079)\t1\n",
      "  (2, 71)\t1\n",
      "  (2, 441)\t1\n",
      "  (2, 454)\t1\n",
      "  (2, 875)\t1\n",
      "  (2, 1267)\t1\n",
      "  (2, 2330)\t1\n",
      "  :\t:\n",
      "  (5570, 3188)\t1\n",
      "  (5570, 3564)\t1\n",
      "  (5570, 3810)\t1\n",
      "  (5570, 4188)\t1\n",
      "  (5571, 5566)\t1\n",
      "  (5571, 6359)\t1\n",
      "  (5571, 7611)\t1\n",
      "  (5571, 7986)\t1\n",
      "  (5572, 999)\t1\n",
      "  (5572, 1665)\t1\n",
      "  (5572, 1916)\t1\n",
      "  (5572, 3103)\t1\n",
      "  (5572, 3577)\t1\n",
      "  (5572, 3701)\t1\n",
      "  (5572, 3950)\t1\n",
      "  (5572, 4343)\t1\n",
      "  (5572, 4480)\t1\n",
      "  (5572, 5000)\t1\n",
      "  (5572, 5777)\t1\n",
      "  (5572, 7636)\t1\n",
      "  (5572, 8731)\t1\n",
      "  (5572, 8997)\t1\n",
      "  (5573, 5688)\t1\n",
      "  (5573, 7052)\t1\n",
      "  (5573, 8538)\t1\n"
     ]
    }
   ],
   "source": [
    "x = cv.transform(x)\n",
    "print(x)\n",
    "# (0, 1181)   1   == 데이터의 행 번호(여기서는 0번째 줄 데이터), 단어의 인덱스값, 행에서 출현 횟수"
   ]
  },
  {
   "cell_type": "code",
   "execution_count": 42,
   "id": "b4cf0c45",
   "metadata": {},
   "outputs": [],
   "source": [
    "from sklearn.model_selection import train_test_split # 임포트\n",
    "x_train, x_test, y_train, y_tset = train_test_split(x, y, test_size=0.2,\n",
    "                                                    random_state=100)"
   ]
  },
  {
   "cell_type": "markdown",
   "id": "d01482ea",
   "metadata": {},
   "source": [
    "- 사용 모델 : MultinomialNB 모듈<br>\n",
    "다항 분포에 대한 Naive Bayes 알고리즘, 다항 분포(Multinomial) 외에 정규분포(Gaussian), 베르누이 분포(Bernoulli)에 <br> \n",
    "따른 NB 모듈이있으며, 데이터 분포의 특성을 명확히 파악하기 어렵다면 이 세 가지 모듈을 모두 사용하여<br> 가장 결과가 좋은 모델을 선택하면 됨"
   ]
  },
  {
   "cell_type": "code",
   "execution_count": 43,
   "id": "51881149",
   "metadata": {},
   "outputs": [],
   "source": [
    "from sklearn.naive_bayes import MultinomialNB\n",
    "model = MultinomialNB()      # 모델 객체 생성\n",
    "model.fit(x_train, y_train)  # 학습\n",
    "pred = model.predict(x_test) # 예측"
   ]
  },
  {
   "cell_type": "markdown",
   "id": "695c029e",
   "metadata": {},
   "source": [
    "(note) confusion_matrix 모듈<br>\n",
    "행을 실젯값 0과1, 열을 예측값 0과 1로 두어 2 x 2 매트릭스를 만듭니다.<br>\n",
    "이를 통해 실젯값이 0인데 예측값도 0인 경우, 실젯값은 0인데 예측값은 1인경우,<br>\n",
    "실젯값도 1이고 예측값도 1인 경우, 실젯값은 1이나 예측값은 0인 4가징 경우를 한눈에 파악할 수 있습니다.<br>\n",
    "accuracy_score()와 같이 실젯값, 예측값을 순서대로 넣어주면 됩니다."
   ]
  },
  {
   "cell_type": "code",
   "execution_count": 48,
   "id": "badfbdcc",
   "metadata": {},
   "outputs": [
    {
     "name": "stdout",
     "output_type": "stream",
     "text": [
      "정확도 : 0.9856502242152466\n",
      "[[965  12]\n",
      " [  4 134]]\n"
     ]
    }
   ],
   "source": [
    "from sklearn.metrics import accuracy_score, confusion_matrix\n",
    "\n",
    "print('정확도 :', accuracy_score(y_tset, pred)) # 정확도 계산\n",
    "print(confusion_matrix(y_tset, pred)) # 혼돈 행열 출력"
   ]
  },
  {
   "cell_type": "code",
   "execution_count": 50,
   "id": "760dc336",
   "metadata": {},
   "outputs": [
    {
     "data": {
      "text/plain": [
       "<AxesSubplot: >"
      ]
     },
     "execution_count": 50,
     "metadata": {},
     "output_type": "execute_result"
    },
    {
     "data": {
      "image/png": "[encoded data removed]",
      "text/plain": [
       "<Figure size 640x480 with 2 Axes>"
      ]
     },
     "metadata": {},
     "output_type": "display_data"
    }
   ],
   "source": [
    "sns.heatmap(confusion_matrix(y_tset, pred), annot=True, fmt='.0f') # 혼돈 행렬 히트맵"
   ]
  },
  {
   "cell_type": "code",
   "execution_count": null,
   "id": "7b552146",
   "metadata": {},
   "outputs": [],
   "source": []
  }
 ],
 "metadata": {
  "kernelspec": {
   "display_name": "Python 3 (ipykernel)",
   "language": "python",
   "name": "python3"
  },
  "language_info": {
   "codemirror_mode": {
    "name": "ipython",
    "version": 3
   },
   "file_extension": ".py",
   "mimetype": "text/x-python",
   "name": "python",
   "nbconvert_exporter": "python",
   "pygments_lexer": "ipython3",
   "version": "3.9.13"
  },
  "toc": {
   "base_numbering": 1,
   "nav_menu": {},
   "number_sections": true,
   "sideBar": true,
   "skip_h1_title": false,
   "title_cell": "Table of Contents",
   "title_sidebar": "Contents",
   "toc_cell": false,
   "toc_position": {},
   "toc_section_display": true,
   "toc_window_display": false
  },
  "varInspector": {
   "cols": {
    "lenName": 16,
    "lenType": 16,
    "lenVar": 40
   },
   "kernels_config": {
    "python": {
     "delete_cmd_postfix": "",
     "delete_cmd_prefix": "del ",
     "library": "var_list.py",
     "varRefreshCmd": "print(var_dic_list())"
    },
    "r": {
     "delete_cmd_postfix": ") ",
     "delete_cmd_prefix": "rm(",
     "library": "var_list.r",
     "varRefreshCmd": "cat(var_dic_list()) "
    }
   },
   "types_to_exclude": [
    "module",
    "function",
    "builtin_function_or_method",
    "instance",
    "_Feature"
   ],
   "window_display": false
  }
 },
 "nbformat": 4,
 "nbformat_minor": 5
}
