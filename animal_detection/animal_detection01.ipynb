{
 "cells": [
  {
   "cell_type": "code",
   "execution_count": 107,
   "id": "66e5dcf3",
   "metadata": {},
   "outputs": [],
   "source": [
    "from tensorflow.keras import datasets\n",
    "from PIL import Image\n",
    "from tensorflow.keras.models import Sequential, Model\n",
    "from tensorflow.keras.layers import Dense, Conv2D, MaxPooling2D, Flatten, Dropout\n",
    "from sklearn.model_selection import train_test_split\n",
    "from keras.callbacks import EarlyStopping, ModelCheckpoint\n",
    "from tensorflow.keras.preprocessing.image import ImageDataGenerator\n",
    "from keras.backend import set_session as K\n",
    "from sklearn.model_selection import cross_val_score\n",
    "from tensorflow.keras.optimizers import SGD, Adam\n",
    "import tensorflow as tf\n",
    "import matplotlib.pyplot as plt\n",
    "import os\n",
    "import matplotlib.pyplot as plt\n",
    "import numpy as np\n",
    "import glob"
   ]
  },
  {
   "cell_type": "code",
   "execution_count": 108,
   "id": "0e738d8e",
   "metadata": {
    "scrolled": true
   },
   "outputs": [
    {
     "name": "stdout",
     "output_type": "stream",
     "text": [
      "Found 7500 images belonging to 5 classes.\n",
      "Found 3700 images belonging to 5 classes.\n"
     ]
    }
   ],
   "source": [
    "train_dir = './Animal Classification/Training Data' # train_data 경로\n",
    "test_dir = './Animal Classification/Testing Data'   # test_data 경로\n",
    "categories = ['Cat','Cow','Dog','Elephant','Panda'] # 동물 종류\n",
    "\n",
    "# ImageDataGenerator 생성\n",
    "train_datagen = ImageDataGenerator(rescale=1/255)\n",
    "test_datagen = ImageDataGenerator(rescale=1/255)\n",
    "\n",
    "# ImageDataGenerator 설정\n",
    "train_generator = train_datagen.flow_from_directory(\n",
    "    train_dir, #학습용 이미지를 가져올 폴더명\n",
    "    classes= categories,              # Cat 폴더의 image는 label을 0으로\n",
    "                                      # Cow 폴더의 image는 label을 1로 설정한다\n",
    "    target_size=(100,100),            # 이미지를 (64, 64)를 resize\n",
    "    batch_size=20,                    # 한번에 10개의 이미지만 가져와요\n",
    "    class_mode='categorical'              # 다중분류인경우 설정\n",
    ")\n",
    "\n",
    "# ImageDataGenerator 설정\n",
    "test_generator = test_datagen.flow_from_directory(\n",
    "    test_dir,\n",
    "    classes=categories,         \n",
    "                                      \n",
    "    target_size=(100,100),            \n",
    "    batch_size=20,                    \n",
    "    class_mode='categorical'               \n",
    ")"
   ]
  },
  {
   "cell_type": "code",
   "execution_count": 124,
   "id": "eb9fe3af",
   "metadata": {},
   "outputs": [],
   "source": [
    "# CNN Model 구현\n",
    "model = Sequential()\n",
    " \n",
    "model.add(Conv2D(filters=32,                          # 32 * 3 *(3 * 3) + 32(bias) = 896\n",
    "                 kernel_size=(3,3),\n",
    "                 strides=(1,1),\n",
    "                 activation='relu',\n",
    "                 input_shape=(100,100,3)))\n",
    "\n",
    "model.add(Conv2D(filters=64,                         # 32 * 63 * (3 * 3) + 64 = 18,496\n",
    "                 kernel_size=(3,3),\n",
    "                 strides=(1,1),\n",
    "                 activation='relu'))\n",
    "model.add(Dropout(0.8))                             # 드롭아웃 추가. 비율은 50%\n",
    "\n",
    "model.add(MaxPooling2D(pool_size=(2,2)))                           \n",
    "model.add(Dropout(0.8))            \n",
    "\n",
    "model.add(Conv2D(filters=64,                       # 64 * 64 * (3 * 3) + 64 = 36,928\n",
    "                 kernel_size=(3,3),\n",
    "                 strides=(1,1),\n",
    "                 activation='relu'))\n",
    "\n",
    "#Fully Connection Layer(CNN)의 input_layer\n",
    "model.add(Flatten())\n",
    "\n",
    "# hidden Layer\n",
    "model.add(Dense(units=128,\n",
    "                activation='relu'))\n",
    "# output_layer\n",
    "model.add(Dense(units=5,\n",
    "                activation='softmax'))\n"
   ]
  },
  {
   "cell_type": "code",
   "execution_count": 125,
   "id": "fcddf980",
   "metadata": {},
   "outputs": [
    {
     "name": "stdout",
     "output_type": "stream",
     "text": [
      "Model: \"sequential_28\"\n",
      "_________________________________________________________________\n",
      "Layer (type)                 Output Shape              Param #   \n",
      "=================================================================\n",
      "conv2d_82 (Conv2D)           (None, 98, 98, 32)        896       \n",
      "_________________________________________________________________\n",
      "conv2d_83 (Conv2D)           (None, 96, 96, 64)        18496     \n",
      "_________________________________________________________________\n",
      "dropout_16 (Dropout)         (None, 96, 96, 64)        0         \n",
      "_________________________________________________________________\n",
      "max_pooling2d_27 (MaxPooling (None, 48, 48, 64)        0         \n",
      "_________________________________________________________________\n",
      "dropout_17 (Dropout)         (None, 48, 48, 64)        0         \n",
      "_________________________________________________________________\n",
      "conv2d_84 (Conv2D)           (None, 46, 46, 64)        36928     \n",
      "_________________________________________________________________\n",
      "flatten_26 (Flatten)         (None, 135424)            0         \n",
      "_________________________________________________________________\n",
      "dense_43 (Dense)             (None, 128)               17334400  \n",
      "_________________________________________________________________\n",
      "dense_44 (Dense)             (None, 5)                 645       \n",
      "=================================================================\n",
      "Total params: 17,391,365\n",
      "Trainable params: 17,391,365\n",
      "Non-trainable params: 0\n",
      "_________________________________________________________________\n"
     ]
    }
   ],
   "source": [
    "model.summary()"
   ]
  },
  {
   "cell_type": "code",
   "execution_count": 126,
   "id": "144084dc",
   "metadata": {},
   "outputs": [],
   "source": [
    "#model이 어떻게 도착하는지를 지정\n",
    "model.compile(optimizer=Adam(learning_rate=0.001),\n",
    "             loss=\"categorical_crossentropy\",\n",
    "             metrics=['accuracy']\n",
    "             )"
   ]
  },
  {
   "cell_type": "code",
   "execution_count": null,
   "id": "8ea58b13",
   "metadata": {},
   "outputs": [
    {
     "name": "stdout",
     "output_type": "stream",
     "text": [
      "Epoch 1/20\n",
      "375/375 [==============================] - 65s 173ms/step - loss: 1.9073 - accuracy: 0.1948 - val_loss: 1.6101 - val_accuracy: 0.1967\n",
      "Epoch 2/20\n",
      "375/375 [==============================] - 133s 355ms/step - loss: 1.6097 - accuracy: 0.1948 - val_loss: 1.6093 - val_accuracy: 0.2517\n",
      "Epoch 3/20\n",
      "375/375 [==============================] - 72s 193ms/step - loss: 1.6091 - accuracy: 0.1984 - val_loss: 1.6035 - val_accuracy: 0.2225\n",
      "Epoch 4/20\n",
      "375/375 [==============================] - 77s 206ms/step - loss: 1.5079 - accuracy: 0.3492 - val_loss: 1.6371 - val_accuracy: 0.2258\n",
      "Epoch 5/20\n",
      "206/375 [===============>..............] - ETA: 19s - loss: 1.3332 - accuracy: 0.4617"
     ]
    }
   ],
   "source": [
    "hist = model.fit(train_generator,\n",
    "                steps_per_epoch=375,\n",
    "                epochs=20,\n",
    "                verbose=1,\n",
    "                validation_data=test_generator,\n",
    "                validation_steps=60)"
   ]
  },
  {
   "cell_type": "code",
   "execution_count": null,
   "id": "8ee4c5a7",
   "metadata": {},
   "outputs": [],
   "source": []
  }
 ],
 "metadata": {
  "kernelspec": {
   "display_name": "Python 3 (ipykernel)",
   "language": "python",
   "name": "python3"
  },
  "language_info": {
   "codemirror_mode": {
    "name": "ipython",
    "version": 3
   },
   "file_extension": ".py",
   "mimetype": "text/x-python",
   "name": "python",
   "nbconvert_exporter": "python",
   "pygments_lexer": "ipython3",
   "version": "3.9.13"
  },
  "toc": {
   "base_numbering": 1,
   "nav_menu": {},
   "number_sections": true,
   "sideBar": true,
   "skip_h1_title": false,
   "title_cell": "Table of Contents",
   "title_sidebar": "Contents",
   "toc_cell": false,
   "toc_position": {},
   "toc_section_display": true,
   "toc_window_display": false
  },
  "varInspector": {
   "cols": {
    "lenName": 16,
    "lenType": 16,
    "lenVar": 40
   },
   "kernels_config": {
    "python": {
     "delete_cmd_postfix": "",
     "delete_cmd_prefix": "del ",
     "library": "var_list.py",
     "varRefreshCmd": "print(var_dic_list())"
    },
    "r": {
     "delete_cmd_postfix": ") ",
     "delete_cmd_prefix": "rm(",
     "library": "var_list.r",
     "varRefreshCmd": "cat(var_dic_list()) "
    }
   },
   "types_to_exclude": [
    "module",
    "function",
    "builtin_function_or_method",
    "instance",
    "_Feature"
   ],
   "window_display": false
  }
 },
 "nbformat": 4,
 "nbformat_minor": 5
}
