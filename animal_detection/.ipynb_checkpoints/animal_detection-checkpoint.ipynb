{
 "cells": [
  {
   "cell_type": "code",
   "execution_count": 188,
   "id": "66e5dcf3",
   "metadata": {},
   "outputs": [],
   "source": [
    "from tensorflow.keras import datasets\n",
    "from tensorflow.keras.models import Sequential, Model\n",
    "from tensorflow.keras.layers import Dense, Conv2D, MaxPooling2D, Flatten\n",
    "from sklearn.model_selection import train_test_split\n",
    "from keras.callbacks import EarlyStopping, ModelCheckpoint\n",
    "import matplotlib.pyplot as plt\n",
    "from keras.backend import set_session as K\n",
    "import tensorflow as tf\n",
    "import matplotlib.pyplot as plt\n",
    "import numpy as np"
   ]
  },
  {
   "cell_type": "code",
   "execution_count": 177,
   "id": "0e738d8e",
   "metadata": {
    "scrolled": true
   },
   "outputs": [
    {
     "name": "stdout",
     "output_type": "stream",
     "text": [
      "Cat  파일 길이 :  1500\n",
      "Cow  파일 길이 :  1500\n",
      "Dog  파일 길이 :  1500\n",
      "Elephant  파일 길이 :  1500\n",
      "Panda  파일 길이 :  1500\n"
     ]
    }
   ],
   "source": [
    "img_url = './Animal Classification/Training Data' # 트레인데이터 경로\n",
    "categories = ['Cat','Cow','Dog','Elephant','Panda'] # 동물 종류\n",
    "classes = len(categories)                           # 클래스 개수\n",
    "\n",
    "image_w = 64                     \n",
    "image_h = 64\n",
    "\n",
    "pixel = image_h * image_w * 3\n",
    "\n",
    "X = []\n",
    "Y = []\n",
    "\n",
    "for i, l in enumerate(categories):\n",
    "    label = [0 for i in range(classes)]\n",
    "    label[i] = 1\n",
    "    \n",
    "    image_url = img_url + \"/\" + l\n",
    "    files = glob.glob(image_url+\"/*.jpg\")\n",
    "    print(l, \" 파일 길이 : \", len(files))\n",
    "    for a,b in enumerate(files):\n",
    "        img = Image.open(b)\n",
    "        img = img.convert(\"RGB\")\n",
    "        img = img.resize((image_w, image_h))\n",
    "        data = np.asarray(img)\n",
    "        \n",
    "        X.append(data)\n",
    "        Y.append(label)\n",
    "        \n",
    "X = np.array(X)\n",
    "Y = np.array(Y)"
   ]
  },
  {
   "cell_type": "code",
   "execution_count": 178,
   "id": "eb9fe3af",
   "metadata": {},
   "outputs": [
    {
     "name": "stderr",
     "output_type": "stream",
     "text": [
      "C:\\Users\\KOREAIT\\anaconda3\\envs\\py39tf2\\lib\\site-packages\\numpy\\lib\\npyio.py:501: VisibleDeprecationWarning: Creating an ndarray from ragged nested sequences (which is a list-or-tuple of lists-or-tuples-or ndarrays with different lengths or shapes) is deprecated. If you meant to do this, you must specify 'dtype=object' when creating the ndarray.\n",
      "  arr = np.asanyarray(arr)\n"
     ]
    }
   ],
   "source": [
    "X_train, X_test, y_train, y_test = train_test_split(X,Y)\n",
    "\n",
    "xy = (X_train, X_test, y_train, y_test)\n",
    "np.save(\"./image_data.npy\", xy) # 데이터를 .npy 로 저장 이걸가지고서 모델 학습"
   ]
  },
  {
   "cell_type": "code",
   "execution_count": 167,
   "id": "fcddf980",
   "metadata": {},
   "outputs": [
    {
     "name": "stdout",
     "output_type": "stream",
     "text": [
      "(5625, 64, 64, 3)\n",
      "5625\n"
     ]
    }
   ],
   "source": [
    "config = tf.compat.v1.ConfigProto()\n",
    "config.gpu_options.allow_growth = True\n",
    "\n",
    "X_train, X_test, y_train, y_test = np.load('./image_data.npy',allow_pickle=True)\n",
    "print(X_train.shape)\n",
    "print(X_train.shape[0])"
   ]
  },
  {
   "cell_type": "code",
   "execution_count": 179,
   "id": "144084dc",
   "metadata": {},
   "outputs": [],
   "source": [
    "#일반화\n",
    "X_train = X_train.astype(float) / 255\n",
    "X_test = X_test.astype(float) / 255"
   ]
  },
  {
   "cell_type": "code",
   "execution_count": 212,
   "id": "30ba2030",
   "metadata": {},
   "outputs": [],
   "source": [
    "\n",
    "\n",
    "model = Sequential()\n",
    "model.add(Conv2D(32, (3,3), padding=\"same\", input_shape=X_train.shape[1:], activation='relu'))\n",
    "model.add(MaxPooling2D(pool_size=(2,2)))\n",
    "model.add(Conv2D(256, (3,3), padding=\"same\", activation='relu'))\n",
    "model.add(MaxPooling2D(pool_size=(2,2)))\n",
    "    \n",
    "model.add(Flatten())\n",
    "model.add(Dense(64, activation='relu'))\n",
    "model.add(Dense(128, activation='relu'))\n",
    "model.add(Dense(256, activation='relu'))\n",
    "model.add(Dense(classes, activation='softmax'))\n",
    "model.compile(loss='categorical_crossentropy', optimizer='adam', metrics=['accuracy'])\n",
    "model_dir = './model'\n",
    "    \n",
    "if not os.path.exists(model_dir):\n",
    "    os.mkdir(model_dir)\n",
    "    \n",
    "model_path = model_dir + '/multi_img_classification.model'\n",
    "early_stopping = EarlyStopping(monitor='val_loss', patience=10)"
   ]
  },
  {
   "cell_type": "code",
   "execution_count": 213,
   "id": "f7bd3ea5",
   "metadata": {},
   "outputs": [
    {
     "name": "stdout",
     "output_type": "stream",
     "text": [
      "Model: \"sequential_15\"\n",
      "_________________________________________________________________\n",
      "Layer (type)                 Output Shape              Param #   \n",
      "=================================================================\n",
      "conv2d_22 (Conv2D)           (None, 64, 64, 32)        896       \n",
      "_________________________________________________________________\n",
      "max_pooling2d_20 (MaxPooling (None, 32, 32, 32)        0         \n",
      "_________________________________________________________________\n",
      "conv2d_23 (Conv2D)           (None, 32, 32, 256)       73984     \n",
      "_________________________________________________________________\n",
      "max_pooling2d_21 (MaxPooling (None, 16, 16, 256)       0         \n",
      "_________________________________________________________________\n",
      "flatten_5 (Flatten)          (None, 65536)             0         \n",
      "_________________________________________________________________\n",
      "dense_13 (Dense)             (None, 64)                4194368   \n",
      "_________________________________________________________________\n",
      "dense_14 (Dense)             (None, 128)               8320      \n",
      "_________________________________________________________________\n",
      "dense_15 (Dense)             (None, 256)               33024     \n",
      "_________________________________________________________________\n",
      "dense_16 (Dense)             (None, 5)                 1285      \n",
      "=================================================================\n",
      "Total params: 4,311,877\n",
      "Trainable params: 4,311,877\n",
      "Non-trainable params: 0\n",
      "_________________________________________________________________\n"
     ]
    }
   ],
   "source": [
    "model.summary()"
   ]
  },
  {
   "cell_type": "code",
   "execution_count": 214,
   "id": "22a9aebd",
   "metadata": {},
   "outputs": [
    {
     "name": "stdout",
     "output_type": "stream",
     "text": [
      "Epoch 1/50\n",
      "176/176 [==============================] - 7s 33ms/step - loss: 1.2768 - accuracy: 0.4596 - val_loss: 1.0202 - val_accuracy: 0.5979\n",
      "\n",
      "Epoch 00001: val_loss improved from inf to 1.02024, saving model to ./model\\multi_img_classification.model\n",
      "INFO:tensorflow:Assets written to: ./model\\multi_img_classification.model\\assets\n",
      "Epoch 2/50\n",
      "176/176 [==============================] - 5s 29ms/step - loss: 0.9068 - accuracy: 0.6542 - val_loss: 0.9249 - val_accuracy: 0.6395\n",
      "\n",
      "Epoch 00002: val_loss improved from 1.02024 to 0.92490, saving model to ./model\\multi_img_classification.model\n",
      "INFO:tensorflow:Assets written to: ./model\\multi_img_classification.model\\assets\n",
      "Epoch 3/50\n",
      "176/176 [==============================] - 5s 29ms/step - loss: 0.7281 - accuracy: 0.7260 - val_loss: 0.8096 - val_accuracy: 0.7035\n",
      "\n",
      "Epoch 00003: val_loss improved from 0.92490 to 0.80957, saving model to ./model\\multi_img_classification.model\n",
      "INFO:tensorflow:Assets written to: ./model\\multi_img_classification.model\\assets\n",
      "Epoch 4/50\n",
      "176/176 [==============================] - 5s 29ms/step - loss: 0.5632 - accuracy: 0.7947 - val_loss: 0.8688 - val_accuracy: 0.6997\n",
      "\n",
      "Epoch 00004: val_loss did not improve from 0.80957\n",
      "Epoch 5/50\n",
      "176/176 [==============================] - 5s 29ms/step - loss: 0.3747 - accuracy: 0.8658 - val_loss: 1.1204 - val_accuracy: 0.6944\n",
      "\n",
      "Epoch 00005: val_loss did not improve from 0.80957\n",
      "Epoch 6/50\n",
      "176/176 [==============================] - 5s 29ms/step - loss: 0.2414 - accuracy: 0.9191 - val_loss: 1.1516 - val_accuracy: 0.6848\n",
      "\n",
      "Epoch 00006: val_loss did not improve from 0.80957\n",
      "Epoch 7/50\n",
      "176/176 [==============================] - 5s 29ms/step - loss: 0.1866 - accuracy: 0.9342 - val_loss: 1.2468 - val_accuracy: 0.6912\n",
      "\n",
      "Epoch 00007: val_loss did not improve from 0.80957\n",
      "Epoch 8/50\n",
      "176/176 [==============================] - 5s 28ms/step - loss: 0.0804 - accuracy: 0.9740 - val_loss: 1.7744 - val_accuracy: 0.6949\n",
      "\n",
      "Epoch 00008: val_loss did not improve from 0.80957\n",
      "Epoch 9/50\n",
      "176/176 [==============================] - 5s 29ms/step - loss: 0.1022 - accuracy: 0.9666 - val_loss: 1.5301 - val_accuracy: 0.6853\n",
      "\n",
      "Epoch 00009: val_loss did not improve from 0.80957\n",
      "Epoch 10/50\n",
      "176/176 [==============================] - 5s 28ms/step - loss: 0.0940 - accuracy: 0.9687 - val_loss: 1.8577 - val_accuracy: 0.6779\n",
      "\n",
      "Epoch 00010: val_loss did not improve from 0.80957\n",
      "Epoch 11/50\n",
      "176/176 [==============================] - 5s 28ms/step - loss: 0.0663 - accuracy: 0.9797 - val_loss: 1.8094 - val_accuracy: 0.6971\n",
      "\n",
      "Epoch 00011: val_loss did not improve from 0.80957\n",
      "Epoch 12/50\n",
      "176/176 [==============================] - 5s 29ms/step - loss: 0.0703 - accuracy: 0.9765 - val_loss: 1.8214 - val_accuracy: 0.7115\n",
      "\n",
      "Epoch 00012: val_loss did not improve from 0.80957\n",
      "Epoch 13/50\n",
      "176/176 [==============================] - 5s 28ms/step - loss: 0.0619 - accuracy: 0.9810 - val_loss: 1.7763 - val_accuracy: 0.6997\n",
      "\n",
      "Epoch 00013: val_loss did not improve from 0.80957\n"
     ]
    }
   ],
   "source": [
    "history = model.fit(X_train, y_train, \n",
    "                    batch_size=32, \n",
    "                    epochs=50, \n",
    "                    validation_data=(X_test, y_test), \n",
    "                    callbacks=[checkpoint, early_stopping])"
   ]
  },
  {
   "cell_type": "code",
   "execution_count": 215,
   "id": "6dc44ba9",
   "metadata": {},
   "outputs": [
    {
     "name": "stdout",
     "output_type": "stream",
     "text": [
      "59/59 [==============================] - 1s 10ms/step - loss: 1.7763 - accuracy: 0.6997\n",
      "정확도 : 0.6997\n"
     ]
    }
   ],
   "source": [
    "print(\"정확도 : %.4f\" % (model.evaluate(X_test, y_test)[1]))"
   ]
  },
  {
   "cell_type": "code",
   "execution_count": 217,
   "id": "d41b4f1d",
   "metadata": {},
   "outputs": [
    {
     "data": {
      "image/png": "[encoded data removed]",
      "text/plain": [
       "<Figure size 640x480 with 1 Axes>"
      ]
     },
     "metadata": {},
     "output_type": "display_data"
    }
   ],
   "source": [
    "y_vloss = history.history['val_loss']\n",
    "y_loss = history.history['loss']\n",
    "\n",
    "x_len = np.arange(len(y_loss))\n",
    "\n",
    "plt.plot(x_len, y_vloss, marker='.', c='red', label='val_set_loss')\n",
    "plt.plot(x_len, y_loss, marker='.', c='blue', label='train_set_oss')\n",
    "plt.legend()\n",
    "plt.xlabel('epochs')\n",
    "plt.ylabel('loss')\n",
    "plt.grid()\n",
    "plt.show()"
   ]
  },
  {
   "cell_type": "code",
   "execution_count": null,
   "id": "5fd1a8c5",
   "metadata": {},
   "outputs": [],
   "source": []
  }
 ],
 "metadata": {
  "kernelspec": {
   "display_name": "Python 3 (ipykernel)",
   "language": "python",
   "name": "python3"
  },
  "language_info": {
   "codemirror_mode": {
    "name": "ipython",
    "version": 3
   },
   "file_extension": ".py",
   "mimetype": "text/x-python",
   "name": "python",
   "nbconvert_exporter": "python",
   "pygments_lexer": "ipython3",
   "version": "3.9.13"
  },
  "toc": {
   "base_numbering": 1,
   "nav_menu": {},
   "number_sections": true,
   "sideBar": true,
   "skip_h1_title": false,
   "title_cell": "Table of Contents",
   "title_sidebar": "Contents",
   "toc_cell": false,
   "toc_position": {},
   "toc_section_display": true,
   "toc_window_display": false
  },
  "varInspector": {
   "cols": {
    "lenName": 16,
    "lenType": 16,
    "lenVar": 40
   },
   "kernels_config": {
    "python": {
     "delete_cmd_postfix": "",
     "delete_cmd_prefix": "del ",
     "library": "var_list.py",
     "varRefreshCmd": "print(var_dic_list())"
    },
    "r": {
     "delete_cmd_postfix": ") ",
     "delete_cmd_prefix": "rm(",
     "library": "var_list.r",
     "varRefreshCmd": "cat(var_dic_list()) "
    }
   },
   "types_to_exclude": [
    "module",
    "function",
    "builtin_function_or_method",
    "instance",
    "_Feature"
   ],
   "window_display": false
  }
 },
 "nbformat": 4,
 "nbformat_minor": 5
}
