{
 "cells": [
  {
   "cell_type": "code",
   "execution_count": 43,
   "id": "66e5dcf3",
   "metadata": {},
   "outputs": [],
   "source": [
    "from tensorflow.keras import datasets\n",
    "from PIL import Image\n",
    "from tensorflow.keras.models import Sequential, Model\n",
    "from tensorflow.keras.layers import Dense, Conv2D, MaxPooling2D, Flatten\n",
    "from sklearn.model_selection import train_test_split\n",
    "from keras.callbacks import EarlyStopping, ModelCheckpoint\n",
    "import matplotlib.pyplot as plt\n",
    "from keras.backend import set_session as K\n",
    "from sklearn.model_selection import cross_val_score\n",
    "import tensorflow as tf\n",
    "import os\n",
    "import matplotlib.pyplot as plt\n",
    "import numpy as np\n",
    "import glob"
   ]
  },
  {
   "cell_type": "code",
   "execution_count": 11,
   "id": "0e738d8e",
   "metadata": {
    "scrolled": true
   },
   "outputs": [
    {
     "name": "stdout",
     "output_type": "stream",
     "text": [
      "Cat  파일 길이 :  1500\n",
      "Cow  파일 길이 :  1500\n",
      "Dog  파일 길이 :  1500\n",
      "Elephant  파일 길이 :  1500\n",
      "Panda  파일 길이 :  1500\n"
     ]
    }
   ],
   "source": [
    "img_url = './Animal Classification/Training Data' # 트레인데이터 경로\n",
    "categories = ['Cat','Cow','Dog','Elephant','Panda'] # 동물 종류\n",
    "classes = len(categories)                           # 클래스 개수\n",
    "\n",
    "image_w = 64                     \n",
    "image_h = 64\n",
    "\n",
    "pixel = image_h * image_w * 3\n",
    "\n",
    "X = []\n",
    "Y = []\n",
    "\n",
    "for i, l in enumerate(categories):\n",
    "    label = [0 for i in range(classes)]\n",
    "    label[i] = 1\n",
    "    \n",
    "    image_url = img_url + \"/\" + l\n",
    "    files = glob.glob(image_url+\"/*.jpg\")\n",
    "    print(l, \" 파일 길이 : \", len(files))\n",
    "    for a,b in enumerate(files):\n",
    "        img = Image.open(b)\n",
    "        img = img.convert(\"RGB\")\n",
    "        img = img.resize((image_w, image_h))\n",
    "        data = np.asarray(img)\n",
    "        \n",
    "        X.append(data)\n",
    "        Y.append(label)\n",
    "        \n",
    "X = np.array(X)\n",
    "Y = np.array(Y)"
   ]
  },
  {
   "cell_type": "code",
   "execution_count": 12,
   "id": "eb9fe3af",
   "metadata": {},
   "outputs": [
    {
     "name": "stderr",
     "output_type": "stream",
     "text": [
      "C:\\Users\\KOREAIT\\anaconda3\\envs\\py39tf2\\lib\\site-packages\\numpy\\lib\\npyio.py:501: VisibleDeprecationWarning: Creating an ndarray from ragged nested sequences (which is a list-or-tuple of lists-or-tuples-or ndarrays with different lengths or shapes) is deprecated. If you meant to do this, you must specify 'dtype=object' when creating the ndarray.\n",
      "  arr = np.asanyarray(arr)\n"
     ]
    }
   ],
   "source": [
    "X_train, X_test, y_train, y_test = train_test_split(X,Y)\n",
    "\n",
    "xy = (X_train, X_test, y_train, y_test)\n",
    "np.save(\"./image_data.npy\", xy) # 데이터를 .npy 로 저장 이걸가지고서 모델 학습"
   ]
  },
  {
   "cell_type": "code",
   "execution_count": 13,
   "id": "fcddf980",
   "metadata": {},
   "outputs": [
    {
     "name": "stdout",
     "output_type": "stream",
     "text": [
      "(5625, 64, 64, 3)\n",
      "5625\n"
     ]
    }
   ],
   "source": [
    "config = tf.compat.v1.ConfigProto()\n",
    "config.gpu_options.allow_growth = True\n",
    "\n",
    "X_train, X_test, y_train, y_test = np.load('./image_data.npy',allow_pickle=True)\n",
    "print(X_train.shape)\n",
    "print(X_train.shape[0])"
   ]
  },
  {
   "cell_type": "code",
   "execution_count": 14,
   "id": "144084dc",
   "metadata": {},
   "outputs": [],
   "source": [
    "#일반화\n",
    "X_train = X_train.astype(float) / 255\n",
    "X_test = X_test.astype(float) / 255"
   ]
  },
  {
   "cell_type": "code",
   "execution_count": 17,
   "id": "30ba2030",
   "metadata": {},
   "outputs": [],
   "source": [
    "\n",
    "\n",
    "model = Sequential()\n",
    "model.add(Conv2D(32, (3,3), padding=\"same\", input_shape=X_train.shape[1:], activation='relu'))\n",
    "model.add(MaxPooling2D(pool_size=(2,2)))\n",
    "model.add(Conv2D(256, (3,3), padding=\"same\", activation='relu'))\n",
    "model.add(MaxPooling2D(pool_size=(2,2)))\n",
    "    \n",
    "model.add(Flatten())\n",
    "model.add(Dense(64, activation='relu'))\n",
    "model.add(Dense(128, activation='relu'))\n",
    "model.add(Dense(256, activation='relu'))\n",
    "model.add(Dense(classes, activation='softmax'))\n",
    "model.compile(loss='categorical_crossentropy', optimizer='adam', metrics=['accuracy'])\n",
    "model_dir = './model'\n",
    "    \n",
    "if not os.path.exists(model_dir):\n",
    "    os.mkdir(model_dir)\n",
    "    \n",
    "model_path = model_dir + '/multi_img_classification.model'\n",
    "early_stopping = EarlyStopping(monitor='val_loss', patience=10)"
   ]
  },
  {
   "cell_type": "code",
   "execution_count": 18,
   "id": "f7bd3ea5",
   "metadata": {},
   "outputs": [
    {
     "name": "stdout",
     "output_type": "stream",
     "text": [
      "Model: \"sequential_1\"\n",
      "_________________________________________________________________\n",
      "Layer (type)                 Output Shape              Param #   \n",
      "=================================================================\n",
      "conv2d_2 (Conv2D)            (None, 64, 64, 32)        896       \n",
      "_________________________________________________________________\n",
      "max_pooling2d_2 (MaxPooling2 (None, 32, 32, 32)        0         \n",
      "_________________________________________________________________\n",
      "conv2d_3 (Conv2D)            (None, 32, 32, 256)       73984     \n",
      "_________________________________________________________________\n",
      "max_pooling2d_3 (MaxPooling2 (None, 16, 16, 256)       0         \n",
      "_________________________________________________________________\n",
      "flatten_1 (Flatten)          (None, 65536)             0         \n",
      "_________________________________________________________________\n",
      "dense_4 (Dense)              (None, 64)                4194368   \n",
      "_________________________________________________________________\n",
      "dense_5 (Dense)              (None, 128)               8320      \n",
      "_________________________________________________________________\n",
      "dense_6 (Dense)              (None, 256)               33024     \n",
      "_________________________________________________________________\n",
      "dense_7 (Dense)              (None, 5)                 1285      \n",
      "=================================================================\n",
      "Total params: 4,311,877\n",
      "Trainable params: 4,311,877\n",
      "Non-trainable params: 0\n",
      "_________________________________________________________________\n"
     ]
    }
   ],
   "source": [
    "model.summary()"
   ]
  },
  {
   "cell_type": "code",
   "execution_count": 29,
   "id": "22a9aebd",
   "metadata": {},
   "outputs": [
    {
     "name": "stdout",
     "output_type": "stream",
     "text": [
      "Epoch 1/50\n",
      "176/176 [==============================] - 17s 51ms/step - loss: 1.2803 - accuracy: 0.4565 - val_loss: 1.0311 - val_accuracy: 0.6112\n",
      "Epoch 2/50\n",
      "176/176 [==============================] - 6s 34ms/step - loss: 0.8991 - accuracy: 0.6606 - val_loss: 0.9203 - val_accuracy: 0.6453\n",
      "Epoch 3/50\n",
      "176/176 [==============================] - 6s 34ms/step - loss: 0.7111 - accuracy: 0.7371 - val_loss: 0.8655 - val_accuracy: 0.6875\n",
      "Epoch 4/50\n",
      "176/176 [==============================] - 6s 34ms/step - loss: 0.5386 - accuracy: 0.8069 - val_loss: 0.8345 - val_accuracy: 0.6960\n",
      "Epoch 5/50\n",
      "176/176 [==============================] - 6s 34ms/step - loss: 0.3427 - accuracy: 0.8816 - val_loss: 1.0245 - val_accuracy: 0.6773\n",
      "Epoch 6/50\n",
      "176/176 [==============================] - 6s 35ms/step - loss: 0.2094 - accuracy: 0.9260 - val_loss: 1.2047 - val_accuracy: 0.6992\n",
      "Epoch 7/50\n",
      "176/176 [==============================] - 6s 34ms/step - loss: 0.1305 - accuracy: 0.9525 - val_loss: 1.3931 - val_accuracy: 0.6816\n",
      "Epoch 8/50\n",
      "176/176 [==============================] - 6s 34ms/step - loss: 0.1026 - accuracy: 0.9655 - val_loss: 1.5441 - val_accuracy: 0.6859\n",
      "Epoch 9/50\n",
      "176/176 [==============================] - 6s 34ms/step - loss: 0.1140 - accuracy: 0.9595 - val_loss: 1.5847 - val_accuracy: 0.6763\n",
      "Epoch 10/50\n",
      "176/176 [==============================] - 6s 34ms/step - loss: 0.0504 - accuracy: 0.9833 - val_loss: 1.8298 - val_accuracy: 0.7013\n",
      "Epoch 11/50\n",
      "176/176 [==============================] - 6s 35ms/step - loss: 0.0270 - accuracy: 0.9904 - val_loss: 1.8977 - val_accuracy: 0.6869\n",
      "Epoch 12/50\n",
      "176/176 [==============================] - 7s 38ms/step - loss: 0.0506 - accuracy: 0.9847 - val_loss: 1.7059 - val_accuracy: 0.6853\n",
      "Epoch 13/50\n",
      "176/176 [==============================] - 6s 34ms/step - loss: 0.0465 - accuracy: 0.9842 - val_loss: 2.0687 - val_accuracy: 0.6885\n",
      "Epoch 14/50\n",
      "176/176 [==============================] - 6s 35ms/step - loss: 0.0238 - accuracy: 0.9918 - val_loss: 2.3089 - val_accuracy: 0.6939\n",
      "Epoch 15/50\n",
      "176/176 [==============================] - 6s 34ms/step - loss: 0.0441 - accuracy: 0.9863 - val_loss: 1.9651 - val_accuracy: 0.6997\n",
      "Epoch 16/50\n",
      "176/176 [==============================] - 6s 35ms/step - loss: 0.0548 - accuracy: 0.9838 - val_loss: 2.2403 - val_accuracy: 0.6565\n",
      "Epoch 17/50\n",
      "176/176 [==============================] - 6s 34ms/step - loss: 0.0405 - accuracy: 0.9877 - val_loss: 1.9804 - val_accuracy: 0.6859\n",
      "Epoch 18/50\n",
      "176/176 [==============================] - 6s 35ms/step - loss: 0.0094 - accuracy: 0.9973 - val_loss: 2.3042 - val_accuracy: 0.6997\n",
      "Epoch 19/50\n",
      "176/176 [==============================] - 6s 36ms/step - loss: 0.0545 - accuracy: 0.9831 - val_loss: 2.1022 - val_accuracy: 0.7024\n",
      "Epoch 20/50\n",
      "176/176 [==============================] - 7s 38ms/step - loss: 0.0246 - accuracy: 0.9902 - val_loss: 2.3420 - val_accuracy: 0.6955\n",
      "Epoch 21/50\n",
      "176/176 [==============================] - 6s 34ms/step - loss: 0.0334 - accuracy: 0.9902 - val_loss: 2.1027 - val_accuracy: 0.6843\n",
      "Epoch 22/50\n",
      "176/176 [==============================] - 6s 34ms/step - loss: 0.0382 - accuracy: 0.9881 - val_loss: 2.3256 - val_accuracy: 0.6821\n",
      "Epoch 23/50\n",
      "176/176 [==============================] - 6s 34ms/step - loss: 0.0466 - accuracy: 0.9877 - val_loss: 1.9761 - val_accuracy: 0.6896\n",
      "Epoch 24/50\n",
      "176/176 [==============================] - 6s 34ms/step - loss: 0.0415 - accuracy: 0.9870 - val_loss: 2.1644 - val_accuracy: 0.6843\n",
      "Epoch 25/50\n",
      "176/176 [==============================] - 6s 34ms/step - loss: 0.0111 - accuracy: 0.9968 - val_loss: 2.4433 - val_accuracy: 0.6741\n",
      "Epoch 26/50\n",
      "176/176 [==============================] - 6s 34ms/step - loss: 0.0079 - accuracy: 0.9979 - val_loss: 2.3516 - val_accuracy: 0.6901\n",
      "Epoch 27/50\n",
      "176/176 [==============================] - 6s 34ms/step - loss: 0.0020 - accuracy: 0.9993 - val_loss: 2.5967 - val_accuracy: 0.6939\n",
      "Epoch 28/50\n",
      "176/176 [==============================] - 6s 34ms/step - loss: 0.0512 - accuracy: 0.9852 - val_loss: 2.1898 - val_accuracy: 0.6704\n",
      "Epoch 29/50\n",
      "176/176 [==============================] - 6s 35ms/step - loss: 0.0376 - accuracy: 0.9868 - val_loss: 2.1822 - val_accuracy: 0.6901\n",
      "Epoch 30/50\n",
      "176/176 [==============================] - 6s 35ms/step - loss: 0.0079 - accuracy: 0.9973 - val_loss: 2.3904 - val_accuracy: 0.6699\n",
      "Epoch 31/50\n",
      "176/176 [==============================] - 6s 34ms/step - loss: 0.0096 - accuracy: 0.9972 - val_loss: 2.4716 - val_accuracy: 0.6928\n",
      "Epoch 32/50\n",
      "176/176 [==============================] - 6s 34ms/step - loss: 0.0509 - accuracy: 0.9877 - val_loss: 1.9174 - val_accuracy: 0.6853\n",
      "Epoch 33/50\n",
      "176/176 [==============================] - 6s 34ms/step - loss: 0.0201 - accuracy: 0.9940 - val_loss: 2.1454 - val_accuracy: 0.6955\n",
      "Epoch 34/50\n",
      "176/176 [==============================] - 6s 34ms/step - loss: 0.0114 - accuracy: 0.9966 - val_loss: 2.6393 - val_accuracy: 0.6592\n",
      "Epoch 35/50\n",
      "176/176 [==============================] - 6s 34ms/step - loss: 0.0139 - accuracy: 0.9964 - val_loss: 2.1857 - val_accuracy: 0.6837\n",
      "Epoch 36/50\n",
      "176/176 [==============================] - 6s 34ms/step - loss: 0.0230 - accuracy: 0.9938 - val_loss: 2.2640 - val_accuracy: 0.6773\n",
      "Epoch 37/50\n",
      "176/176 [==============================] - 6s 34ms/step - loss: 0.0350 - accuracy: 0.9906 - val_loss: 2.0961 - val_accuracy: 0.6757\n",
      "Epoch 38/50\n",
      "176/176 [==============================] - 6s 34ms/step - loss: 0.0139 - accuracy: 0.9954 - val_loss: 2.1147 - val_accuracy: 0.6752\n",
      "Epoch 39/50\n",
      "176/176 [==============================] - 6s 34ms/step - loss: 0.0342 - accuracy: 0.9890 - val_loss: 2.4992 - val_accuracy: 0.6864\n",
      "Epoch 40/50\n",
      "176/176 [==============================] - 6s 34ms/step - loss: 0.0294 - accuracy: 0.9916 - val_loss: 2.1919 - val_accuracy: 0.6901\n",
      "Epoch 41/50\n",
      "176/176 [==============================] - 6s 34ms/step - loss: 0.0148 - accuracy: 0.9952 - val_loss: 2.2693 - val_accuracy: 0.6997\n",
      "Epoch 42/50\n",
      "176/176 [==============================] - 6s 34ms/step - loss: 0.0081 - accuracy: 0.9973 - val_loss: 2.5691 - val_accuracy: 0.6827\n",
      "Epoch 43/50\n",
      "176/176 [==============================] - 6s 34ms/step - loss: 8.9939e-04 - accuracy: 0.9998 - val_loss: 2.5663 - val_accuracy: 0.6901\n",
      "Epoch 44/50\n",
      "176/176 [==============================] - 7s 37ms/step - loss: 1.3246e-04 - accuracy: 1.0000 - val_loss: 2.6558 - val_accuracy: 0.6939\n",
      "Epoch 45/50\n",
      "176/176 [==============================] - 8s 43ms/step - loss: 5.1186e-05 - accuracy: 1.0000 - val_loss: 2.6807 - val_accuracy: 0.6933\n",
      "Epoch 46/50\n",
      "176/176 [==============================] - 7s 39ms/step - loss: 3.5838e-05 - accuracy: 1.0000 - val_loss: 2.7081 - val_accuracy: 0.6939\n",
      "Epoch 47/50\n",
      "176/176 [==============================] - 6s 34ms/step - loss: 2.9174e-05 - accuracy: 1.0000 - val_loss: 2.7342 - val_accuracy: 0.6939\n",
      "Epoch 48/50\n",
      "176/176 [==============================] - 6s 34ms/step - loss: 2.4382e-05 - accuracy: 1.0000 - val_loss: 2.7597 - val_accuracy: 0.6928\n",
      "Epoch 49/50\n",
      "176/176 [==============================] - 6s 35ms/step - loss: 2.0761e-05 - accuracy: 1.0000 - val_loss: 2.7847 - val_accuracy: 0.6933\n",
      "Epoch 50/50\n",
      "176/176 [==============================] - 6s 34ms/step - loss: 1.7937e-05 - accuracy: 1.0000 - val_loss: 2.8077 - val_accuracy: 0.6939\n"
     ]
    }
   ],
   "source": [
    "history = model.fit(X_train, y_train, \n",
    "                    batch_size=32, \n",
    "                    epochs=50, \n",
    "                    validation_data=(X_test, y_test))"
   ]
  },
  {
   "cell_type": "code",
   "execution_count": 31,
   "id": "6dc44ba9",
   "metadata": {},
   "outputs": [
    {
     "name": "stdout",
     "output_type": "stream",
     "text": [
      "59/59 [==============================] - 1s 15ms/step - loss: 2.8077 - accuracy: 0.6939\n",
      "정확도 : 0.6939\n"
     ]
    }
   ],
   "source": [
    "print(\"정확도 : %.4f\" % (model.evaluate(X_test, y_test)[1]))"
   ]
  },
  {
   "cell_type": "code",
   "execution_count": 32,
   "id": "d41b4f1d",
   "metadata": {},
   "outputs": [
    {
     "data": {
      "image/png": "[encoded data removed]",
      "text/plain": [
       "<Figure size 640x480 with 1 Axes>"
      ]
     },
     "metadata": {},
     "output_type": "display_data"
    }
   ],
   "source": [
    "y_vloss = history.history['val_loss']\n",
    "y_loss = history.history['loss']\n",
    "\n",
    "x_len = np.arange(len(y_loss))\n",
    "\n",
    "plt.plot(x_len, y_vloss, marker='.', c='red', label='val_set_loss')\n",
    "plt.plot(x_len, y_loss, marker='.', c='blue', label='train_set_oss')\n",
    "plt.legend()\n",
    "plt.xlabel('epochs')\n",
    "plt.ylabel('loss')\n",
    "plt.grid()\n",
    "plt.show()"
   ]
  },
  {
   "cell_type": "code",
   "execution_count": 41,
   "id": "5fd1a8c5",
   "metadata": {},
   "outputs": [
    {
     "name": "stdout",
     "output_type": "stream",
     "text": [
      "[0.000 1.000 0.000 0.000 0.000]\n",
      "1\n",
      "해당 cat-test (1).jpeg이미지는 소으로 추정됩니다.\n",
      "[0.000 0.000 0.000 0.000 1.000]\n",
      "4\n",
      "해당 cat-test (2).jpeg이미지는 판다로 추정됩니다.\n",
      "[1.000 0.000 0.000 0.000 0.000]\n",
      "0\n",
      "해당 cat-test (3).jpeg이미지는 고양이로 추정됩니다.\n",
      "[0.000 1.000 0.000 0.000 0.000]\n",
      "1\n",
      "해당 cat-test (4).jpeg이미지는 소으로 추정됩니다.\n",
      "[0.000 1.000 0.000 0.000 0.000]\n",
      "1\n",
      "해당 Cow-Test (1).jpeg이미지는 소으로 추정됩니다.\n",
      "[0.000 1.000 0.000 0.000 0.000]\n",
      "1\n",
      "해당 Cow-Test (2).jpeg이미지는 소으로 추정됩니다.\n",
      "[0.000 0.000 0.000 0.000 1.000]\n",
      "4\n",
      "해당 Cow-Test (3).jpeg이미지는 판다로 추정됩니다.\n",
      "[0.000 0.000 0.000 0.000 1.000]\n",
      "4\n",
      "해당 Cow-Test (6).jpeg이미지는 판다로 추정됩니다.\n",
      "[0.000 0.000 0.000 0.000 1.000]\n",
      "4\n",
      "해당 Dog-Test (1).jpeg이미지는 판다로 추정됩니다.\n",
      "[0.000 0.000 1.000 0.000 0.000]\n",
      "2\n",
      "해당 Dog-Test (1).jpg이미지는 강아지로 추정됩니다.\n",
      "[1.000 0.000 0.000 0.000 0.000]\n",
      "0\n",
      "해당 Dog-Test (2).jpeg이미지는 고양이로 추정됩니다.\n",
      "[0.000 1.000 0.000 0.000 0.000]\n",
      "1\n",
      "해당 Elephant-Test (1).jpeg이미지는 소으로 추정됩니다.\n",
      "[1.000 0.000 0.000 0.000 0.000]\n",
      "0\n",
      "해당 Elephant-Test (113).jpeg이미지는 고양이로 추정됩니다.\n",
      "[0.000 0.000 0.000 1.000 0.000]\n",
      "3\n",
      "해당 Elephant-Test (115).jpeg이미지는 코끼리로 추정됩니다.\n",
      "[0.000 0.000 0.000 1.000 0.000]\n",
      "3\n",
      "해당 Elephant-Test (4).jpeg이미지는 코끼리로 추정됩니다.\n",
      "[0.000 0.000 0.000 0.000 1.000]\n",
      "4\n",
      "해당 Panda-Test (1).jpeg이미지는 판다로 추정됩니다.\n",
      "[0.000 0.000 0.000 0.000 1.000]\n",
      "4\n",
      "해당 Panda-Test (2).jpeg이미지는 판다로 추정됩니다.\n",
      "[0.000 0.000 0.000 0.000 1.000]\n",
      "4\n",
      "해당 Panda-Test (3).jpeg이미지는 판다로 추정됩니다.\n"
     ]
    }
   ],
   "source": [
    "from PIL import Image\n",
    "import os, glob, numpy as np\n",
    "from keras.models import load_model\n",
    "\n",
    "caltech_dir = \"./Animal Classification/Testing Data/TestImage\"\n",
    "image_w = 64\n",
    "image_h = 64\n",
    "\n",
    "pixels = image_h * image_w * 3\n",
    "\n",
    "X = []\n",
    "filenames = []\n",
    "files = glob.glob(caltech_dir+\"/*.*\")\n",
    "for i, f in enumerate(files):\n",
    "    img = Image.open(f)\n",
    "    img = img.convert(\"RGB\")\n",
    "    img = img.resize((image_w, image_h))\n",
    "    data = np.asarray(img)\n",
    "    filenames.append(f)\n",
    "    X.append(data)\n",
    "\n",
    "X = np.array(X)\n",
    "\n",
    "prediction = model.predict(X)\n",
    "np.set_printoptions(formatter={'float': lambda x: \"{0:0.3f}\".format(x)})\n",
    "cnt = 0\n",
    "\n",
    "for i in prediction:\n",
    "    pre_ans = i.argmax()  # 예측 레이블\n",
    "    print(i)\n",
    "    print(pre_ans)\n",
    "    pre_ans_str = ''\n",
    "    if pre_ans == 0: pre_ans_str = \"고양이\"\n",
    "    elif pre_ans == 1: pre_ans_str = \"소\"\n",
    "    elif pre_ans == 2: pre_ans_str = \"강아지\"\n",
    "    elif pre_ans == 3: pre_ans_str = '코끼리'\n",
    "    else: pre_ans_str = \"판다\"\n",
    "    if i[0] >= 0.8 : print(\"해당 \"+filenames[cnt].split(\"\\\\\")[1]+\"이미지는 \"+pre_ans_str+\"로 추정됩니다.\")\n",
    "    if i[1] >= 0.8: print(\"해당 \"+filenames[cnt].split(\"\\\\\")[1]+\"이미지는 \"+pre_ans_str+\"으로 추정됩니다.\")\n",
    "    if i[2] >= 0.8: print(\"해당 \"+filenames[cnt].split(\"\\\\\")[1]+\"이미지는 \"+pre_ans_str+\"로 추정됩니다.\")\n",
    "    if i[3] >= 0.8: print(\"해당 \"+filenames[cnt].split(\"\\\\\")[1]+\"이미지는 \"+pre_ans_str+\"로 추정됩니다.\")\n",
    "    if i[4] >= 0.8: print(\"해당 \"+filenames[cnt].split(\"\\\\\")[1]+\"이미지는 \"+pre_ans_str+\"로 추정됩니다.\")\n",
    "    cnt += 1\n",
    "    # print(i.argmax()) #얘가 레이블 [1. 0. 0.] 이런식으로 되어 있는 것을 숫자로 바꿔주는 것.\n",
    "    # 즉 얘랑, 나중에 카테고리 데이터 불러와서 카테고리랑 비교를 해서 같으면 맞는거고, 아니면 틀린거로 취급하면 된다."
   ]
  },
  {
   "cell_type": "code",
   "execution_count": null,
   "id": "02782b20",
   "metadata": {},
   "outputs": [],
   "source": []
  }
 ],
 "metadata": {
  "kernelspec": {
   "display_name": "Python 3 (ipykernel)",
   "language": "python",
   "name": "python3"
  },
  "language_info": {
   "codemirror_mode": {
    "name": "ipython",
    "version": 3
   },
   "file_extension": ".py",
   "mimetype": "text/x-python",
   "name": "python",
   "nbconvert_exporter": "python",
   "pygments_lexer": "ipython3",
   "version": "3.9.13"
  },
  "toc": {
   "base_numbering": 1,
   "nav_menu": {},
   "number_sections": true,
   "sideBar": true,
   "skip_h1_title": false,
   "title_cell": "Table of Contents",
   "title_sidebar": "Contents",
   "toc_cell": false,
   "toc_position": {},
   "toc_section_display": true,
   "toc_window_display": false
  },
  "varInspector": {
   "cols": {
    "lenName": 16,
    "lenType": 16,
    "lenVar": 40
   },
   "kernels_config": {
    "python": {
     "delete_cmd_postfix": "",
     "delete_cmd_prefix": "del ",
     "library": "var_list.py",
     "varRefreshCmd": "print(var_dic_list())"
    },
    "r": {
     "delete_cmd_postfix": ") ",
     "delete_cmd_prefix": "rm(",
     "library": "var_list.r",
     "varRefreshCmd": "cat(var_dic_list()) "
    }
   },
   "types_to_exclude": [
    "module",
    "function",
    "builtin_function_or_method",
    "instance",
    "_Feature"
   ],
   "window_display": false
  }
 },
 "nbformat": 4,
 "nbformat_minor": 5
}
